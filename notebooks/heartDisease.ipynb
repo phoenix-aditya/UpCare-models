{
 "cells": [
  {
   "cell_type": "code",
   "execution_count": 1,
   "metadata": {},
   "outputs": [],
   "source": [
    "import pandas as pd\n",
    "import numpy as np\n",
    "import matplotlib.pyplot as plt\n",
    "from sklearn.model_selection import train_test_split\n",
    "from sklearn.ensemble import RandomForestClassifier\n",
    "from sklearn.metrics import accuracy_score"
   ]
  },
  {
   "cell_type": "code",
   "execution_count": 2,
   "metadata": {},
   "outputs": [
    {
     "data": {
      "text/html": [
       "<div>\n",
       "<style scoped>\n",
       "    .dataframe tbody tr th:only-of-type {\n",
       "        vertical-align: middle;\n",
       "    }\n",
       "\n",
       "    .dataframe tbody tr th {\n",
       "        vertical-align: top;\n",
       "    }\n",
       "\n",
       "    .dataframe thead th {\n",
       "        text-align: right;\n",
       "    }\n",
       "</style>\n",
       "<table border=\"1\" class=\"dataframe\">\n",
       "  <thead>\n",
       "    <tr style=\"text-align: right;\">\n",
       "      <th></th>\n",
       "      <th>Age</th>\n",
       "      <th>Sex</th>\n",
       "      <th>Chest pain type</th>\n",
       "      <th>BP</th>\n",
       "      <th>Cholesterol</th>\n",
       "      <th>FBS over 120</th>\n",
       "      <th>EKG results</th>\n",
       "      <th>Max HR</th>\n",
       "      <th>Exercise angina</th>\n",
       "      <th>ST depression</th>\n",
       "      <th>Slope of ST</th>\n",
       "      <th>Number of vessels fluro</th>\n",
       "      <th>Thallium</th>\n",
       "      <th>Heart Disease</th>\n",
       "    </tr>\n",
       "  </thead>\n",
       "  <tbody>\n",
       "    <tr>\n",
       "      <th>0</th>\n",
       "      <td>70</td>\n",
       "      <td>1</td>\n",
       "      <td>4</td>\n",
       "      <td>130</td>\n",
       "      <td>322</td>\n",
       "      <td>0</td>\n",
       "      <td>2</td>\n",
       "      <td>109</td>\n",
       "      <td>0</td>\n",
       "      <td>2.4</td>\n",
       "      <td>2</td>\n",
       "      <td>3</td>\n",
       "      <td>3</td>\n",
       "      <td>Presence</td>\n",
       "    </tr>\n",
       "    <tr>\n",
       "      <th>1</th>\n",
       "      <td>67</td>\n",
       "      <td>0</td>\n",
       "      <td>3</td>\n",
       "      <td>115</td>\n",
       "      <td>564</td>\n",
       "      <td>0</td>\n",
       "      <td>2</td>\n",
       "      <td>160</td>\n",
       "      <td>0</td>\n",
       "      <td>1.6</td>\n",
       "      <td>2</td>\n",
       "      <td>0</td>\n",
       "      <td>7</td>\n",
       "      <td>Absence</td>\n",
       "    </tr>\n",
       "    <tr>\n",
       "      <th>2</th>\n",
       "      <td>57</td>\n",
       "      <td>1</td>\n",
       "      <td>2</td>\n",
       "      <td>124</td>\n",
       "      <td>261</td>\n",
       "      <td>0</td>\n",
       "      <td>0</td>\n",
       "      <td>141</td>\n",
       "      <td>0</td>\n",
       "      <td>0.3</td>\n",
       "      <td>1</td>\n",
       "      <td>0</td>\n",
       "      <td>7</td>\n",
       "      <td>Presence</td>\n",
       "    </tr>\n",
       "    <tr>\n",
       "      <th>3</th>\n",
       "      <td>64</td>\n",
       "      <td>1</td>\n",
       "      <td>4</td>\n",
       "      <td>128</td>\n",
       "      <td>263</td>\n",
       "      <td>0</td>\n",
       "      <td>0</td>\n",
       "      <td>105</td>\n",
       "      <td>1</td>\n",
       "      <td>0.2</td>\n",
       "      <td>2</td>\n",
       "      <td>1</td>\n",
       "      <td>7</td>\n",
       "      <td>Absence</td>\n",
       "    </tr>\n",
       "    <tr>\n",
       "      <th>4</th>\n",
       "      <td>74</td>\n",
       "      <td>0</td>\n",
       "      <td>2</td>\n",
       "      <td>120</td>\n",
       "      <td>269</td>\n",
       "      <td>0</td>\n",
       "      <td>2</td>\n",
       "      <td>121</td>\n",
       "      <td>1</td>\n",
       "      <td>0.2</td>\n",
       "      <td>1</td>\n",
       "      <td>1</td>\n",
       "      <td>3</td>\n",
       "      <td>Absence</td>\n",
       "    </tr>\n",
       "  </tbody>\n",
       "</table>\n",
       "</div>"
      ],
      "text/plain": [
       "   Age  Sex  Chest pain type   BP  Cholesterol  FBS over 120  EKG results  \\\n",
       "0   70    1                4  130          322             0            2   \n",
       "1   67    0                3  115          564             0            2   \n",
       "2   57    1                2  124          261             0            0   \n",
       "3   64    1                4  128          263             0            0   \n",
       "4   74    0                2  120          269             0            2   \n",
       "\n",
       "   Max HR  Exercise angina  ST depression  Slope of ST  \\\n",
       "0     109                0            2.4            2   \n",
       "1     160                0            1.6            2   \n",
       "2     141                0            0.3            1   \n",
       "3     105                1            0.2            2   \n",
       "4     121                1            0.2            1   \n",
       "\n",
       "   Number of vessels fluro  Thallium Heart Disease  \n",
       "0                        3         3      Presence  \n",
       "1                        0         7       Absence  \n",
       "2                        0         7      Presence  \n",
       "3                        1         7       Absence  \n",
       "4                        1         3       Absence  "
      ]
     },
     "execution_count": 2,
     "metadata": {},
     "output_type": "execute_result"
    }
   ],
   "source": [
    "df = pd.read_csv(\"./datasets/Heart_Disease_Predictions.csv\")\n",
    "df.head()"
   ]
  },
  {
   "cell_type": "code",
   "execution_count": 3,
   "metadata": {},
   "outputs": [],
   "source": [
    "#age\n",
    "#sex\n",
    "#rate your chest pain (ask 1-4)\n",
    "#cholestrol (125-565)\n",
    "#bp (systolic) (95-200)\n",
    "#heart rate (70-200)\n",
    "\n",
    "x = df.iloc[:,[0,1,2,3,4,7]]\n",
    "x = np.array(x) \n",
    "y = df.iloc[:,[-1]].values\n",
    "y=np.array(y)"
   ]
  },
  {
   "cell_type": "code",
   "execution_count": 4,
   "metadata": {},
   "outputs": [],
   "source": [
    "x_train,x_test,y_train,y_test=train_test_split(x,y,test_size=0.2,random_state=0)"
   ]
  },
  {
   "cell_type": "code",
   "execution_count": 5,
   "metadata": {},
   "outputs": [
    {
     "name": "stderr",
     "output_type": "stream",
     "text": [
      "/opt/anaconda3/envs/convo/lib/python3.7/site-packages/ipykernel_launcher.py:2: DataConversionWarning: A column-vector y was passed when a 1d array was expected. Please change the shape of y to (n_samples,), for example using ravel().\n",
      "  \n"
     ]
    },
    {
     "data": {
      "text/plain": [
       "RandomForestClassifier()"
      ]
     },
     "execution_count": 5,
     "metadata": {},
     "output_type": "execute_result"
    }
   ],
   "source": [
    "model = RandomForestClassifier()\n",
    "model.fit(x_train,y_train)"
   ]
  },
  {
   "cell_type": "code",
   "execution_count": 13,
   "metadata": {},
   "outputs": [
    {
     "data": {
      "text/plain": [
       "array([[ 63,   1,   1, 145, 233, 150],\n",
       "       [ 46,   0,   3, 142, 177, 160],\n",
       "       [ 64,   0,   4, 130, 303, 122],\n",
       "       [ 70,   1,   3, 160, 269, 112],\n",
       "       [ 51,   1,   3, 110, 175, 123],\n",
       "       [ 69,   0,   1, 140, 239, 151],\n",
       "       [ 54,   1,   2, 192, 283, 195],\n",
       "       [ 42,   1,   3, 120, 240, 194],\n",
       "       [ 61,   1,   3, 150, 243, 137],\n",
       "       [ 71,   0,   4, 112, 149, 125],\n",
       "       [ 51,   0,   3, 140, 308, 142],\n",
       "       [ 57,   1,   4, 132, 207, 168],\n",
       "       [ 54,   1,   3, 125, 273, 152],\n",
       "       [ 57,   1,   4, 165, 289, 124],\n",
       "       [ 60,   1,   4, 140, 293, 170],\n",
       "       [ 50,   0,   4, 110, 254, 159],\n",
       "       [ 58,   1,   3, 140, 211, 165],\n",
       "       [ 77,   1,   4, 125, 304, 162],\n",
       "       [ 62,   1,   2, 120, 281, 103],\n",
       "       [ 48,   1,   2, 110, 229, 168],\n",
       "       [ 51,   1,   4, 140, 298, 122],\n",
       "       [ 41,   0,   2, 105, 198, 168],\n",
       "       [ 59,   1,   4, 110, 239, 142],\n",
       "       [ 45,   1,   4, 104, 208, 148],\n",
       "       [ 44,   1,   4, 112, 290, 153],\n",
       "       [ 41,   1,   3, 130, 214, 168],\n",
       "       [ 54,   1,   4, 140, 239, 160],\n",
       "       [ 67,   0,   3, 152, 277, 172],\n",
       "       [ 62,   0,   4, 140, 394, 157],\n",
       "       [ 67,   1,   4, 120, 237,  71],\n",
       "       [ 66,   1,   4, 120, 302, 151],\n",
       "       [ 67,   0,   4, 106, 223, 142],\n",
       "       [ 60,   1,   4, 130, 206, 132],\n",
       "       [ 41,   0,   2, 130, 204, 172],\n",
       "       [ 43,   0,   4, 132, 341, 136],\n",
       "       [ 62,   0,   3, 130, 263,  97],\n",
       "       [ 54,   1,   4, 124, 266, 109],\n",
       "       [ 66,   0,   4, 178, 228, 165],\n",
       "       [ 44,   1,   2, 120, 220, 170],\n",
       "       [ 41,   1,   4, 110, 172, 158],\n",
       "       [ 46,   1,   4, 120, 249, 144],\n",
       "       [ 51,   0,   3, 120, 295, 157],\n",
       "       [ 51,   0,   3, 130, 256, 149],\n",
       "       [ 61,   0,   4, 145, 307, 146],\n",
       "       [ 53,   0,   4, 138, 234, 160],\n",
       "       [ 59,   1,   1, 160, 273, 125],\n",
       "       [ 52,   1,   4, 108, 233, 147],\n",
       "       [ 54,   1,   3, 150, 232, 165],\n",
       "       [ 67,   1,   4, 120, 229, 129],\n",
       "       [ 68,   1,   3, 180, 274, 150],\n",
       "       [ 56,   0,   4, 134, 409, 150],\n",
       "       [ 58,   1,   3, 105, 240, 154],\n",
       "       [ 60,   0,   3, 102, 318, 160],\n",
       "       [ 52,   1,   4, 112, 230, 160]])"
      ]
     },
     "execution_count": 13,
     "metadata": {},
     "output_type": "execute_result"
    }
   ],
   "source": [
    "x_test"
   ]
  },
  {
   "cell_type": "code",
   "execution_count": 6,
   "metadata": {},
   "outputs": [],
   "source": [
    "predicted = model.predict(x_test)\n",
    "\n",
    "#model input format\n",
    "#age\n",
    "#sex\n",
    "#rate your chest pain (ask 1-4)\n",
    "#cholestrol (125-565) \n",
    "#bp (systolic) (95-200)\n",
    "#heart rate (70-200)"
   ]
  },
  {
   "cell_type": "code",
   "execution_count": 7,
   "metadata": {},
   "outputs": [
    {
     "name": "stdout",
     "output_type": "stream",
     "text": [
      "0.6851851851851852\n"
     ]
    }
   ],
   "source": [
    "print(accuracy_score(y_test,predicted))"
   ]
  },
  {
   "cell_type": "code",
   "execution_count": 9,
   "metadata": {},
   "outputs": [],
   "source": [
    "import joblib"
   ]
  },
  {
   "cell_type": "code",
   "execution_count": 10,
   "metadata": {},
   "outputs": [
    {
     "data": {
      "text/plain": [
       "['./heartDiseasePredictor.joblib']"
      ]
     },
     "execution_count": 10,
     "metadata": {},
     "output_type": "execute_result"
    }
   ],
   "source": [
    "joblib.dump(model, \"./heartDiseasePredictor.joblib\")"
   ]
  },
  {
   "cell_type": "code",
   "execution_count": 16,
   "metadata": {},
   "outputs": [],
   "source": [
    "loaded_rf = joblib.load(\"../models/heartDiseasePredictor.joblib\")"
   ]
  },
  {
   "cell_type": "code",
   "execution_count": 17,
   "metadata": {},
   "outputs": [
    {
     "data": {
      "text/plain": [
       "array(['Presence', 'Absence', 'Presence', 'Presence', 'Presence',\n",
       "       'Absence', 'Absence', 'Absence', 'Presence', 'Presence', 'Absence',\n",
       "       'Presence', 'Absence', 'Presence', 'Presence', 'Absence',\n",
       "       'Absence', 'Presence', 'Presence', 'Absence', 'Presence',\n",
       "       'Absence', 'Presence', 'Absence', 'Presence', 'Absence',\n",
       "       'Presence', 'Absence', 'Presence', 'Presence', 'Presence',\n",
       "       'Presence', 'Presence', 'Absence', 'Presence', 'Absence',\n",
       "       'Presence', 'Absence', 'Absence', 'Presence', 'Presence',\n",
       "       'Absence', 'Absence', 'Presence', 'Absence', 'Presence',\n",
       "       'Presence', 'Absence', 'Presence', 'Absence', 'Presence',\n",
       "       'Presence', 'Absence', 'Presence'], dtype=object)"
      ]
     },
     "execution_count": 17,
     "metadata": {},
     "output_type": "execute_result"
    }
   ],
   "source": [
    "predicted = loaded_rf.predict(x_test)\n",
    "predicted"
   ]
  }
 ],
 "metadata": {
  "kernelspec": {
   "display_name": "Python 3.8.9 64-bit",
   "language": "python",
   "name": "python3"
  },
  "language_info": {
   "codemirror_mode": {
    "name": "ipython",
    "version": 3
   },
   "file_extension": ".py",
   "mimetype": "text/x-python",
   "name": "python",
   "nbconvert_exporter": "python",
   "pygments_lexer": "ipython3",
   "version": "3.8.9"
  },
  "orig_nbformat": 4,
  "vscode": {
   "interpreter": {
    "hash": "31f2aee4e71d21fbe5cf8b01ff0e069b9275f58929596ceb00d14d90e3e16cd6"
   }
  }
 },
 "nbformat": 4,
 "nbformat_minor": 2
}
